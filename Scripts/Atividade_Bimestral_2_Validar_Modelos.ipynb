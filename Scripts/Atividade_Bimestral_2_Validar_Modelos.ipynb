{
  "nbformat": 4,
  "nbformat_minor": 0,
  "metadata": {
    "colab": {
      "provenance": [],
      "gpuType": "T4"
    },
    "kernelspec": {
      "name": "python3",
      "display_name": "Python 3"
    },
    "language_info": {
      "name": "python"
    },
    "accelerator": "GPU"
  },
  "cells": [
    {
      "cell_type": "code",
      "execution_count": 1,
      "metadata": {
        "colab": {
          "base_uri": "https://localhost:8080/"
        },
        "id": "KCjqRs1hkhUm",
        "outputId": "e54b3719-6e71-447b-9809-ad7da41cf275"
      },
      "outputs": [
        {
          "output_type": "stream",
          "name": "stdout",
          "text": [
            "Mounted at /content/drive\n"
          ]
        }
      ],
      "source": [
        "from google.colab import drive\n",
        "\n",
        "drive.mount('/content/drive')"
      ]
    },
    {
      "cell_type": "code",
      "source": [
        "import cv2\n",
        "import os\n",
        "\n",
        "import pickle\n",
        "from pickle import load\n",
        "\n",
        "import tensorflow as tf\n",
        "from tensorflow.keras.models import load_model"
      ],
      "metadata": {
        "id": "xg8FIOX0kpam"
      },
      "execution_count": 2,
      "outputs": []
    },
    {
      "cell_type": "code",
      "source": [
        "def carregar_modelo(caminho):\n",
        "  modelo = load_model(caminho)\n",
        "  return modelo"
      ],
      "metadata": {
        "id": "QDBydSsikyHB"
      },
      "execution_count": 3,
      "outputs": []
    },
    {
      "cell_type": "code",
      "source": [
        "def testar_modelo(imagem, tamanho, modelo, classes):\n",
        "  imagem_alterada = cv2.resize(imagem, tamanho)\n",
        "\n",
        "  classificador = modelo.predict(imagem_alterada.reshape(1, tamanho[0], tamanho[1], 3))\n",
        "  resultado = classificador.argmax(axis=-1)\n",
        "  classe = classes[resultado[0]]\n",
        "\n",
        "  print(f\"A Imagem classificada: {classe}\")\n",
        "\n",
        "  return classe"
      ],
      "metadata": {
        "id": "PAWTRhqcnMPJ"
      },
      "execution_count": 4,
      "outputs": []
    },
    {
      "cell_type": "code",
      "source": [
        "caminho_base = '/content/drive/MyDrive/Faculdade/VisaoComputacional/TrabalhoBimestral-2'\n",
        "pastas = ['acai', 'coffee', 'guarana', 'strawberry', 'watermelon', 'pineapple', 'lemon', 'cherry', 'banana', 'avocado']\n",
        "\n",
        "imagem_banana = cv2.imread(caminho_base + '/banana-teste.jpg')\n",
        "imagem_cereja = cv2.imread(caminho_base + '/cereja-teste.jpg')\n",
        "imagem_melancia = cv2.imread(caminho_base + '/melancia-teste.jpg')"
      ],
      "metadata": {
        "id": "1_5Fii1hk1K1"
      },
      "execution_count": 18,
      "outputs": []
    },
    {
      "cell_type": "code",
      "source": [
        "modelo_base_densenet = carregar_modelo(caminho_base + '/ModeloBaseDenseNet.h5')\n",
        "modelo_gradiente_densenet = carregar_modelo(caminho_base + '/ModeloGradienteDenseNet.h5')\n",
        "modelo_adam_densenet = carregar_modelo(caminho_base + '/ModeloAdameDenseNet.h5')"
      ],
      "metadata": {
        "id": "-Bx2Sh16AVK1"
      },
      "execution_count": 6,
      "outputs": []
    },
    {
      "cell_type": "code",
      "source": [
        "modelo_base_resnet = carregar_modelo(caminho_base + '/ModeloBaseResNet.h5')\n",
        "modelo_gradiente_resnet = carregar_modelo(caminho_base + '/ModeloGradienteResNet.h5')\n",
        "modelo_adam_resnet = carregar_modelo(caminho_base + '/ModeloAdamResNet.h5')"
      ],
      "metadata": {
        "id": "F_Abj3RjAuPq"
      },
      "execution_count": 7,
      "outputs": []
    },
    {
      "cell_type": "code",
      "source": [
        "modelo_base_custom = carregar_modelo(caminho_base + '/ModeloBaseCustom.h5')\n",
        "modelo_gradiente_custom = carregar_modelo(caminho_base + '/ModeloGradienteCustom.h5')\n",
        "modelo_adam_custom = carregar_modelo(caminho_base + '/ModeloAdamCustom.h5')"
      ],
      "metadata": {
        "id": "RWOexeV5BOZw"
      },
      "execution_count": 8,
      "outputs": []
    },
    {
      "cell_type": "code",
      "source": [
        "print(\"--Testando Modelo Base DenseNet--\")\n",
        "testar_modelo(imagem_banana, (124, 124), modelo_base_densenet, pastas)\n",
        "testar_modelo(imagem_cereja, (124, 124), modelo_base_densenet, pastas)\n",
        "testar_modelo(imagem_melancia, (124, 124), modelo_base_densenet, pastas)"
      ],
      "metadata": {
        "colab": {
          "base_uri": "https://localhost:8080/",
          "height": 157
        },
        "id": "azA5xoMIoJ2F",
        "outputId": "c3cc04f3-f6a5-41d0-a3f0-c64ef08af124"
      },
      "execution_count": 19,
      "outputs": [
        {
          "output_type": "stream",
          "name": "stdout",
          "text": [
            "--Testando Modelo Base DenseNet--\n",
            "1/1 [==============================] - 0s 30ms/step\n",
            "A Imagem classificada: cherry\n",
            "1/1 [==============================] - 0s 29ms/step\n",
            "A Imagem classificada: cherry\n",
            "1/1 [==============================] - 0s 31ms/step\n",
            "A Imagem classificada: watermelon\n"
          ]
        },
        {
          "output_type": "execute_result",
          "data": {
            "text/plain": [
              "'watermelon'"
            ],
            "application/vnd.google.colaboratory.intrinsic+json": {
              "type": "string"
            }
          },
          "metadata": {},
          "execution_count": 19
        }
      ]
    },
    {
      "cell_type": "code",
      "source": [
        "print(\"--Testando Modelo Gradiente DenseNet--\")\n",
        "testar_modelo(imagem_banana, (124, 124), modelo_gradiente_densenet, pastas)\n",
        "testar_modelo(imagem_cereja, (124, 124), modelo_gradiente_densenet, pastas)\n",
        "testar_modelo(imagem_melancia, (124, 124), modelo_gradiente_densenet, pastas)"
      ],
      "metadata": {
        "colab": {
          "base_uri": "https://localhost:8080/",
          "height": 157
        },
        "id": "vWWSCZhbByH1",
        "outputId": "1bd435a3-b44e-46b5-a989-7ee9ae042380"
      },
      "execution_count": 20,
      "outputs": [
        {
          "output_type": "stream",
          "name": "stdout",
          "text": [
            "--Testando Modelo Gradiente DenseNet--\n",
            "1/1 [==============================] - 0s 29ms/step\n",
            "A Imagem classificada: strawberry\n",
            "1/1 [==============================] - 0s 29ms/step\n",
            "A Imagem classificada: strawberry\n",
            "1/1 [==============================] - 0s 33ms/step\n",
            "A Imagem classificada: strawberry\n"
          ]
        },
        {
          "output_type": "execute_result",
          "data": {
            "text/plain": [
              "'strawberry'"
            ],
            "application/vnd.google.colaboratory.intrinsic+json": {
              "type": "string"
            }
          },
          "metadata": {},
          "execution_count": 20
        }
      ]
    },
    {
      "cell_type": "code",
      "source": [
        "print(\"--Testando Modelo Adam DenseNet--\")\n",
        "testar_modelo(imagem_banana, (124, 124), modelo_adam_densenet, pastas)\n",
        "testar_modelo(imagem_cereja, (124, 124), modelo_adam_densenet, pastas)\n",
        "testar_modelo(imagem_melancia, (124, 124), modelo_adam_densenet, pastas)"
      ],
      "metadata": {
        "colab": {
          "base_uri": "https://localhost:8080/",
          "height": 157
        },
        "id": "Wac_vqiFBzPc",
        "outputId": "247b552a-ef0e-490c-b33c-9c5b5ff41f89"
      },
      "execution_count": 21,
      "outputs": [
        {
          "output_type": "stream",
          "name": "stdout",
          "text": [
            "--Testando Modelo Adam DenseNet--\n",
            "1/1 [==============================] - 0s 44ms/step\n",
            "A Imagem classificada: coffee\n",
            "1/1 [==============================] - 0s 44ms/step\n",
            "A Imagem classificada: coffee\n",
            "1/1 [==============================] - 0s 48ms/step\n",
            "A Imagem classificada: coffee\n"
          ]
        },
        {
          "output_type": "execute_result",
          "data": {
            "text/plain": [
              "'coffee'"
            ],
            "application/vnd.google.colaboratory.intrinsic+json": {
              "type": "string"
            }
          },
          "metadata": {},
          "execution_count": 21
        }
      ]
    },
    {
      "cell_type": "code",
      "source": [
        "print(\"--Testando Modelo Base ResNet--\")\n",
        "testar_modelo(imagem_banana, (124, 124), modelo_base_resnet, pastas)\n",
        "testar_modelo(imagem_cereja, (124, 124), modelo_base_resnet, pastas)\n",
        "testar_modelo(imagem_melancia, (124, 124), modelo_base_resnet, pastas)"
      ],
      "metadata": {
        "colab": {
          "base_uri": "https://localhost:8080/",
          "height": 157
        },
        "id": "hlalumPqBzsg",
        "outputId": "91c455f0-fc22-4fbc-c66d-6f8913f5ab4e"
      },
      "execution_count": 22,
      "outputs": [
        {
          "output_type": "stream",
          "name": "stdout",
          "text": [
            "--Testando Modelo Base ResNet--\n",
            "1/1 [==============================] - 0s 27ms/step\n",
            "A Imagem classificada: banana\n",
            "1/1 [==============================] - 0s 31ms/step\n",
            "A Imagem classificada: watermelon\n",
            "1/1 [==============================] - 0s 31ms/step\n",
            "A Imagem classificada: watermelon\n"
          ]
        },
        {
          "output_type": "execute_result",
          "data": {
            "text/plain": [
              "'watermelon'"
            ],
            "application/vnd.google.colaboratory.intrinsic+json": {
              "type": "string"
            }
          },
          "metadata": {},
          "execution_count": 22
        }
      ]
    },
    {
      "cell_type": "code",
      "source": [
        "print(\"--Testando Modelo Gradiente ResNet--\")\n",
        "testar_modelo(imagem_banana, (124, 124), modelo_gradiente_resnet, pastas)\n",
        "testar_modelo(imagem_cereja, (124, 124), modelo_gradiente_resnet, pastas)\n",
        "testar_modelo(imagem_melancia, (124, 124), modelo_gradiente_resnet, pastas)"
      ],
      "metadata": {
        "colab": {
          "base_uri": "https://localhost:8080/",
          "height": 157
        },
        "id": "frHTgFaEBz_W",
        "outputId": "3afed638-25e1-4613-f702-3ba91234b387"
      },
      "execution_count": 23,
      "outputs": [
        {
          "output_type": "stream",
          "name": "stdout",
          "text": [
            "--Testando Modelo Gradiente ResNet--\n",
            "1/1 [==============================] - 0s 18ms/step\n",
            "A Imagem classificada: banana\n",
            "1/1 [==============================] - 0s 19ms/step\n",
            "A Imagem classificada: banana\n",
            "1/1 [==============================] - 0s 25ms/step\n",
            "A Imagem classificada: banana\n"
          ]
        },
        {
          "output_type": "execute_result",
          "data": {
            "text/plain": [
              "'banana'"
            ],
            "application/vnd.google.colaboratory.intrinsic+json": {
              "type": "string"
            }
          },
          "metadata": {},
          "execution_count": 23
        }
      ]
    },
    {
      "cell_type": "code",
      "source": [
        "print(\"--Testando Modelo Adam ResNet--\")\n",
        "testar_modelo(imagem_banana, (124, 124), modelo_adam_resnet, pastas)\n",
        "testar_modelo(imagem_cereja, (124, 124), modelo_adam_resnet, pastas)\n",
        "testar_modelo(imagem_melancia, (124, 124), modelo_adam_resnet, pastas)"
      ],
      "metadata": {
        "colab": {
          "base_uri": "https://localhost:8080/",
          "height": 157
        },
        "id": "jNg6-zRQB0Tb",
        "outputId": "0cdedd67-7330-4798-a71f-f524c599cb03"
      },
      "execution_count": 24,
      "outputs": [
        {
          "output_type": "stream",
          "name": "stdout",
          "text": [
            "--Testando Modelo Adam ResNet--\n",
            "1/1 [==============================] - 0s 20ms/step\n",
            "A Imagem classificada: banana\n",
            "1/1 [==============================] - 0s 21ms/step\n",
            "A Imagem classificada: watermelon\n",
            "1/1 [==============================] - 0s 20ms/step\n",
            "A Imagem classificada: watermelon\n"
          ]
        },
        {
          "output_type": "execute_result",
          "data": {
            "text/plain": [
              "'watermelon'"
            ],
            "application/vnd.google.colaboratory.intrinsic+json": {
              "type": "string"
            }
          },
          "metadata": {},
          "execution_count": 24
        }
      ]
    },
    {
      "cell_type": "code",
      "source": [
        "print(\"--Testando Modelo Base Custom--\")\n",
        "testar_modelo(imagem_banana, (124, 124), modelo_base_custom, pastas)\n",
        "testar_modelo(imagem_cereja, (124, 124), modelo_base_custom, pastas)\n",
        "testar_modelo(imagem_melancia, (124, 124), modelo_base_custom, pastas)"
      ],
      "metadata": {
        "colab": {
          "base_uri": "https://localhost:8080/",
          "height": 157
        },
        "id": "jKpB6BBUB0jm",
        "outputId": "72a60194-c663-46a8-d102-3cccc8f7e56b"
      },
      "execution_count": 25,
      "outputs": [
        {
          "output_type": "stream",
          "name": "stdout",
          "text": [
            "--Testando Modelo Base Custom--\n",
            "1/1 [==============================] - 0s 26ms/step\n",
            "A Imagem classificada: banana\n",
            "1/1 [==============================] - 0s 29ms/step\n",
            "A Imagem classificada: cherry\n",
            "1/1 [==============================] - 0s 28ms/step\n",
            "A Imagem classificada: coffee\n"
          ]
        },
        {
          "output_type": "execute_result",
          "data": {
            "text/plain": [
              "'coffee'"
            ],
            "application/vnd.google.colaboratory.intrinsic+json": {
              "type": "string"
            }
          },
          "metadata": {},
          "execution_count": 25
        }
      ]
    },
    {
      "cell_type": "code",
      "source": [
        "print(\"--Testando Modelo Gradiente Custom--\")\n",
        "testar_modelo(imagem_banana, (124, 124), modelo_gradiente_custom, pastas)\n",
        "testar_modelo(imagem_cereja, (124, 124), modelo_gradiente_custom, pastas)\n",
        "testar_modelo(imagem_melancia, (124, 124), modelo_gradiente_custom, pastas)"
      ],
      "metadata": {
        "colab": {
          "base_uri": "https://localhost:8080/",
          "height": 157
        },
        "id": "ftKATQ6jB00D",
        "outputId": "9d89b761-3785-42f1-912a-8dcfb0fa4a01"
      },
      "execution_count": 26,
      "outputs": [
        {
          "output_type": "stream",
          "name": "stdout",
          "text": [
            "--Testando Modelo Gradiente Custom--\n",
            "1/1 [==============================] - 0s 19ms/step\n",
            "A Imagem classificada: banana\n",
            "1/1 [==============================] - 0s 17ms/step\n",
            "A Imagem classificada: pineapple\n",
            "1/1 [==============================] - 0s 19ms/step\n",
            "A Imagem classificada: pineapple\n"
          ]
        },
        {
          "output_type": "execute_result",
          "data": {
            "text/plain": [
              "'pineapple'"
            ],
            "application/vnd.google.colaboratory.intrinsic+json": {
              "type": "string"
            }
          },
          "metadata": {},
          "execution_count": 26
        }
      ]
    },
    {
      "cell_type": "code",
      "source": [
        "print(\"--Testando Modelo Adam Custom--\")\n",
        "testar_modelo(imagem_banana, (124, 124), modelo_adam_custom, pastas)\n",
        "testar_modelo(imagem_cereja, (124, 124), modelo_adam_custom, pastas)\n",
        "testar_modelo(imagem_melancia, (124, 124), modelo_adam_custom, pastas)"
      ],
      "metadata": {
        "colab": {
          "base_uri": "https://localhost:8080/",
          "height": 157
        },
        "id": "pdXdYw3CB1SA",
        "outputId": "ed178fb1-e780-4dbd-cf85-363832643126"
      },
      "execution_count": 27,
      "outputs": [
        {
          "output_type": "stream",
          "name": "stdout",
          "text": [
            "--Testando Modelo Adam Custom--\n",
            "1/1 [==============================] - 0s 19ms/step\n",
            "A Imagem classificada: banana\n",
            "1/1 [==============================] - 0s 17ms/step\n",
            "A Imagem classificada: cherry\n",
            "1/1 [==============================] - 0s 18ms/step\n",
            "A Imagem classificada: coffee\n"
          ]
        },
        {
          "output_type": "execute_result",
          "data": {
            "text/plain": [
              "'coffee'"
            ],
            "application/vnd.google.colaboratory.intrinsic+json": {
              "type": "string"
            }
          },
          "metadata": {},
          "execution_count": 27
        }
      ]
    }
  ]
}